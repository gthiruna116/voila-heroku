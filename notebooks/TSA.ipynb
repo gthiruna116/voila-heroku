{
 "cells": [
  {
   "cell_type": "markdown",
   "metadata": {},
   "source": [
    "## Time Series analysis for identification of the impact of heat waves on urban heat island index (UHII)"
   ]
  },
  {
   "cell_type": "code",
   "execution_count": null,
   "metadata": {},
   "outputs": [],
   "source": [
    "# In order to analyse the impact of heat waves on urban heat island index (UHII) the daily maximum air temperature collected from two different locations within the melbourne region was used. \n",
    "\n",
    "# The Climatic data used for the analysis was obtained from the Bureau of Meteorology (BOM) website http://www.bom.gov.au/climate/data/index.shtml\n",
    "\n",
    "# The Daily maximum air temperature is nominally recorded at 9 am local time. It is the highest temperature for the 24 hours leading up to the observation, and is recorded as the maximum temperature for the previous day. \n",
    "\n",
    "# The identified stations considered for the UHII calculation are as follows: \n",
    "\n",
    "# 1. MELBOURNE AIRPORT weather station\n",
    "\n",
    "# Latitude (decimal degrees, south negative): -37.67\n",
    "\n",
    "# Longitude (decimal degrees, east positive): 144.83"
   ]
  },
  {
   "cell_type": "code",
   "execution_count": 6,
   "metadata": {},
   "outputs": [],
   "source": [
    "# from IPython.display import Image\n",
    "# Image(filename='Mel_airport_ws.JPG')"
   ]
  },
  {
   "cell_type": "code",
   "execution_count": null,
   "metadata": {},
   "outputs": [],
   "source": [
    "# 2. MELBOURNE REGIONAL OFFICE weather station \n",
    "\n",
    "# Latitude (decimal degrees, south negative): -37.81\n",
    "\n",
    "# Longitude (decimal degrees, east positive): 144.97"
   ]
  },
  {
   "cell_type": "code",
   "execution_count": 5,
   "metadata": {},
   "outputs": [],
   "source": [
    "# from IPython.display import Image\n",
    "# Image(filename='Mel_reg_office_ws.JPG')"
   ]
  },
  {
   "cell_type": "markdown",
   "metadata": {},
   "source": [
    "### Melbourne Airport Weather Station Dataplot (zoom and drag)"
   ]
  },
  {
   "cell_type": "code",
   "execution_count": 4,
   "metadata": {},
   "outputs": [
    {
     "data": {
      "application/vnd.jupyter.widget-view+json": {
       "model_id": "2d43b9c440f74974bbb2c962b189e65f",
       "version_major": 2,
       "version_minor": 0
      },
      "text/plain": [
       "Figure(axes=[Axis(label='Date', scale=DateScale(min=datetime.datetime(1991, 1, 1, 0, 0))), Axis(grid_lines='no…"
      ]
     },
     "metadata": {},
     "output_type": "display_data"
    }
   ],
   "source": [
    "# -*- coding: utf-8 -*-\n",
    "\"\"\"\n",
    "Created on Sat Sep 19 11:59:33 2020\n",
    "\n",
    "@author: Gokul\n",
    "\"\"\"\n",
    "\n",
    "# import headers\n",
    "import pandas as pd\n",
    "# from pathlib import *\n",
    "#for ploting\n",
    "#interactive dropdown\n",
    "import ipywidgets as widgets\n",
    "from ipywidgets import Layout, Button, Box, VBox, HBox, Output, ToggleButtons, HTML\n",
    "from IPython.display import display\n",
    "from bqplot.interacts import (\n",
    "    FastIntervalSelector, IndexSelector, BrushIntervalSelector,\n",
    "    BrushSelector, MultiSelector, LassoSelector, PanZoom, HandDraw\n",
    ")\n",
    "from traitlets import link\n",
    "import seaborn as sns\n",
    "from datetime import datetime as py_dtime\n",
    "import numpy as np\n",
    "import bqplot.pyplot as plt\n",
    "from bqplot import DateScale, LinearScale, Axis, Lines, Scatter, Bars, Hist, Figure\n",
    "\n",
    "# import matplotlib.pyplot as plt\n",
    "# Use seaborn style defaults and set the default figure size\n",
    "sns.set(rc={'figure.figsize':(20, 4)})\n",
    "\n",
    "# create the folder path \n",
    "\n",
    "# Have to update the file path based on the PC you are running the code\n",
    "# folder_name = \"\\OneDrive - Swinburne University\\Gokul\\PhD\\Research\\Time_series_analysis_VU\\Data\\\\\"\n",
    "airport_file_name = \"MELBOURNE AIRPORT_Data.csv\"\n",
    "# airport_file_path=str(Path.home()) + str(folder_name) + str(airport_file_name)\n",
    "# printing the File path to make sure it is right\n",
    "# print(file_path)\n",
    "# Read csv file\n",
    "airport_data = pd.read_csv(airport_file_name)\n",
    "# display(Rural_data)\n",
    "#filter the data from 1990 to 2020\n",
    "airport_data=airport_data[airport_data.Year>1990]\n",
    "airport_data=airport_data[airport_data.Year<2015]\n",
    "# display(Rural_data)\n",
    "# # iterating the columns \n",
    "# for col in Rural_data.columns: \n",
    "#     print(col)\n",
    "\n",
    "# Rename the collumn header for ease of use\n",
    "# data=read_file.rename(columns={\" Year Month Day Hour Minutes in YYYY\": \"year\",\n",
    "#                                   \"MM\": \"month\",\n",
    "#                                   \"DD\": \"day\",\n",
    "#                                   \"HH24\":\"hour\",\n",
    "#                                   \"MI format in Local standard time\": \"minute\",\n",
    "#                                   \"Air Temperature in degrees Celsius\": \"temp\",                               \n",
    "#                                  })\n",
    "airport_Temp_data=airport_data.rename(columns={\"Maximum temperature (Degree C)\": \"Airport_temp\",                               \n",
    "                                 })\n",
    "#creating the date as a datetime\n",
    "\n",
    "airport_Temp_data['Date'] = pd.to_datetime(airport_Temp_data[['Year','Month','Day']])\n",
    "#collumns to filter\n",
    "collist=['Date','Airport_temp']\n",
    "airport_Temp_data = airport_Temp_data[collist]\n",
    "#set datetime as index\n",
    "airport_Temp_data = airport_Temp_data.set_index('Date')\n",
    "airport_Temp_data['Airport_temp'] = pd.to_numeric(airport_Temp_data['Airport_temp'], downcast=\"float\",errors='coerce')\n",
    "# display(airport_Temp_data)\n",
    "#plot the data\n",
    "# airport_plot = airport_Temp_data.plot(title=\"Airport Temp Plot\");\n",
    "# airport_plot.set_ylabel('Temp (degC)');\n",
    "# airport_plot.set_xlabel('Date');\n",
    "#interactive plot\n",
    "xs_pz = DateScale(min=np.datetime64(py_dtime(1991, 1, 1)))\n",
    "ys_pz = LinearScale()\n",
    "line_pz_1 = Lines(x=airport_Temp_data.index.values, y=airport_Temp_data, scales={'x': xs_pz, 'y': ys_pz}, colors=['blue'])\n",
    "\n",
    "panzoom = PanZoom(scales={'x': [xs_pz]})\n",
    "xax = Axis(scale=xs_pz, label='Date', grids='off')\n",
    "yax = Axis(scale=ys_pz, label='Temp (degC)', orientation='vertical', grid_lines='none')\n",
    "\n",
    "Figure(marks=[line_pz_1], axes=[xax, yax], interaction=panzoom, title='Melbourne Airport Temp')"
   ]
  },
  {
   "cell_type": "markdown",
   "metadata": {},
   "source": [
    "### Melbourne CBD Weather Station Dataplot (zoom and drag)"
   ]
  },
  {
   "cell_type": "code",
   "execution_count": 5,
   "metadata": {},
   "outputs": [
    {
     "data": {
      "application/vnd.jupyter.widget-view+json": {
       "model_id": "77c7b2d9e4cd44c89807cab350a93c59",
       "version_major": 2,
       "version_minor": 0
      },
      "text/plain": [
       "Figure(axes=[Axis(label='Date', scale=DateScale(min=datetime.datetime(1991, 1, 1, 0, 0))), Axis(grid_lines='no…"
      ]
     },
     "metadata": {},
     "output_type": "display_data"
    }
   ],
   "source": [
    "reg_off_file_name = \"MELBOURNE REGIONAL OFFICE_Data.csv\"\n",
    "# reg_off_file_path=str(Path.home()) + str(folder_name) + str(reg_off_file_name)\n",
    "# printing the File path to make sure it is right\n",
    "# print(file_path)\n",
    "# Read csv file\n",
    "reg_off_data = pd.read_csv(reg_off_file_name)\n",
    "# display(urban_1_data)\n",
    "#filter the data from 1990 to 2020\n",
    "reg_off_data=reg_off_data[reg_off_data.Year>1990]\n",
    "# this data set has only values recorded \n",
    "reg_off_data=reg_off_data[reg_off_data.Year<2015]\n",
    "# display(urban_1_data)\n",
    "# # iterating the columns \n",
    "# for col in Rural_data.columns: \n",
    "#     print(col)\n",
    "\n",
    "# Rename the collumn header for ease of use\n",
    "# data=read_file.rename(columns={\" Year Month Day Hour Minutes in YYYY\": \"year\",\n",
    "#                                   \"MM\": \"month\",\n",
    "#                                   \"DD\": \"day\",\n",
    "#                                   \"HH24\":\"hour\",\n",
    "#                                   \"MI format in Local standard time\": \"minute\",\n",
    "#                                   \"Air Temperature in degrees Celsius\": \"temp\",                               \n",
    "#                                  })\n",
    "reg_off_Temp_data=reg_off_data.rename(columns={\"Maximum temperature (Degree C)\": \"Reg_office_temp\",                               \n",
    "                                 })\n",
    "#creating the date as a datetime\n",
    "\n",
    "reg_off_Temp_data['Date'] = pd.to_datetime(reg_off_Temp_data[['Year','Month','Day']])\n",
    "#collumns to filter\n",
    "collist=['Date','Reg_office_temp']\n",
    "reg_off_Temp_data = reg_off_Temp_data[collist]\n",
    "#set datetime as index\n",
    "reg_off_Temp_data = reg_off_Temp_data.set_index('Date')\n",
    "reg_off_Temp_data['Reg_office_temp'] = pd.to_numeric(reg_off_Temp_data['Reg_office_temp'], downcast=\"float\",errors='coerce')\n",
    "# display(reg_off_Temp_data)\n",
    "#plot the data\n",
    "# reg_off_plot = reg_off_Temp_data.plot(title=\"Reg_office Temp Plot\");\n",
    "# reg_off_plot.set_ylabel('Temp (degC)');\n",
    "# reg_off_plot.set_xlabel('Date');\n",
    "#interactive plot\n",
    "xs_pz = DateScale(min=np.datetime64(py_dtime(1991, 1, 1)))\n",
    "ys_pz = LinearScale()\n",
    "line_pz_2 = Lines(x=reg_off_Temp_data.index.values, y=reg_off_Temp_data, scales={'x': xs_pz, 'y': ys_pz}, colors=['blue'])\n",
    "\n",
    "panzoom = PanZoom(scales={'x': [xs_pz]})\n",
    "xax = Axis(scale=xs_pz, label='Date', grids='off')\n",
    "yax = Axis(scale=ys_pz, label='Temp (degC)', orientation='vertical', grid_lines='none')\n",
    "\n",
    "Figure(marks=[line_pz_2], axes=[xax, yax], interaction=panzoom, title='Melbourne CBD Temp')"
   ]
  },
  {
   "cell_type": "markdown",
   "metadata": {},
   "source": [
    "### UHII Dataplot (zoom and drag)\n",
    "\n",
    "Airport_temp_data - Regional_office_temp_data"
   ]
  },
  {
   "cell_type": "code",
   "execution_count": 6,
   "metadata": {},
   "outputs": [],
   "source": [
    "UHI = airport_Temp_data['Airport_temp'] -reg_off_Temp_data['Reg_office_temp']"
   ]
  },
  {
   "cell_type": "code",
   "execution_count": 7,
   "metadata": {},
   "outputs": [
    {
     "data": {
      "application/vnd.jupyter.widget-view+json": {
       "model_id": "eb57a8b0d46d41d39f94288a34a270aa",
       "version_major": 2,
       "version_minor": 0
      },
      "text/plain": [
       "Figure(axes=[Axis(label='Date', scale=DateScale(min=datetime.datetime(1991, 1, 1, 0, 0))), Axis(grid_lines='no…"
      ]
     },
     "metadata": {},
     "output_type": "display_data"
    }
   ],
   "source": [
    "xs_pz = DateScale(min=np.datetime64(py_dtime(1991, 1, 1)))\n",
    "ys_pz = LinearScale()\n",
    "line_pz = Lines(x=UHI.index.values, y=UHI, scales={'x': xs_pz, 'y': ys_pz}, colors=['green'])\n",
    "\n",
    "panzoom = PanZoom(scales={'x': [xs_pz]})\n",
    "xax = Axis(scale=xs_pz, label='Date', grids='off')\n",
    "yax = Axis(scale=ys_pz, label='Temp (degC)', orientation='vertical', grid_lines='none')\n",
    "\n",
    "Figure(marks=[line_pz], axes=[xax, yax], interaction=panzoom, title='UHII')"
   ]
  },
  {
   "cell_type": "code",
   "execution_count": 8,
   "metadata": {},
   "outputs": [
    {
     "name": "stdout",
     "output_type": "stream",
     "text": [
      "Maximum UHI\n"
     ]
    },
    {
     "data": {
      "text/plain": [
       "8.400002"
      ]
     },
     "execution_count": 8,
     "metadata": {},
     "output_type": "execute_result"
    }
   ],
   "source": [
    "print('THe Maximum recorded UHII from 1990 to 2019')\n",
    "UHI.max()"
   ]
  },
  {
   "cell_type": "code",
   "execution_count": 9,
   "metadata": {},
   "outputs": [
    {
     "name": "stdout",
     "output_type": "stream",
     "text": [
      "Minimum UHI\n"
     ]
    },
    {
     "data": {
      "text/plain": [
       "-4.3"
      ]
     },
     "execution_count": 9,
     "metadata": {},
     "output_type": "execute_result"
    }
   ],
   "source": [
    "print('The Minimum recorded UHII from 1990 to 2019')\n",
    "UHI.min()"
   ]
  },
  {
   "cell_type": "markdown",
   "metadata": {},
   "source": [
    "## All in one Dataplot (click drag and select to zoom)"
   ]
  },
  {
   "cell_type": "code",
   "execution_count": 10,
   "metadata": {},
   "outputs": [],
   "source": [
    "from pandas import DataFrame\n",
    "UHI_data = DataFrame (UHI,columns=['Temp'])\n",
    "# UHI_data"
   ]
  },
  {
   "cell_type": "code",
   "execution_count": 17,
   "metadata": {},
   "outputs": [
    {
     "data": {
      "application/vnd.jupyter.widget-view+json": {
       "model_id": "5ec2523289e144868990950e7e576d14",
       "version_major": 2,
       "version_minor": 0
      },
      "text/plain": [
       "VBox(children=(Figure(axes=[Axis(label='Date', scale=DateScale()), Axis(label='Temp (degC)', orientation='vert…"
      ]
     },
     "metadata": {},
     "output_type": "display_data"
    }
   ],
   "source": [
    "\n",
    "# y1, y2 = np.random.randn(2, 200).cumsum(axis=1) # two simple random walks\n",
    "\n",
    "fig_layout = Layout()\n",
    "# 1. Create the figure object\n",
    "time_series_fig = plt.figure(layout=fig_layout,title='All in One Plot')\n",
    "# a dict and pass it to `axxes_options` argument in the marks\n",
    "axes_opts = {'x': {'label': 'Date'}, \n",
    "             'y': {'label': 'Temp (degC)'}}\n",
    "dates= reg_off_Temp_data.index.values\n",
    "line = plt.plot(dates,[reg_off_Temp_data,airport_Temp_data, UHI_data], labels=['Regional_office_temp', 'Airport_office_temp', 'UHI_temp'], axes_options=axes_opts,  display_legend=True)\n",
    "\n",
    "\n",
    "# create a fast interval selector by passing in the X scale and the line mark on which the selector operates\n",
    "intsel = BrushIntervalSelector(marks=[line], scale=line.scales['x'])\n",
    "time_series_fig.interaction = intsel # set the interval selector on the figure\n",
    "\n",
    "scat_fig = plt.figure(layout=fig_layout, \n",
    "                      animation_duration=750,\n",
    "                      title='Selected Region',\n",
    "                      height = 50)\n",
    "# set the x and y attributes to the y values of line.y\n",
    "scat = plt.plot(dates[len(reg_off_Temp_data)-1000:len(reg_off_Temp_data)],[\n",
    "    reg_off_Temp_data[len(reg_off_Temp_data)-1000:len(reg_off_Temp_data)],\n",
    "    airport_Temp_data[len(reg_off_Temp_data)-1000:len(reg_off_Temp_data)],\n",
    "    UHI_data[len(reg_off_Temp_data)-1000:len(reg_off_Temp_data)]],axes_options=axes_opts, labels=['Regional_office_temp', 'Airport_office_temp', 'UHI_temp'],display_legend=True)\n",
    "# display(len(scat.y[0]))\n",
    "# define a callback for the interval selector\n",
    "def update_scatter(*args):\n",
    "    brushing = intsel.brushing\n",
    "    \n",
    "    # update scatter *only* when the interval selector\n",
    "    # is not brushing to prevent continuous updates\n",
    "    if not brushing:\n",
    "        # interval selector is active\n",
    "        if line.selected is not None:\n",
    "            # get the start and end indices of the interval\n",
    "            start_ix, end_ix = line.selected[0], line.selected[-1]\n",
    "        else:  # interval selector is *not* active\n",
    "            start_ix, end_ix = 0, -1\n",
    "        display(start_ix, end_ix)    \n",
    "        #update the x and y attributes of the scatter by slicing line.y\n",
    "        with scat.hold_sync():\n",
    "            display(len(line.y[0][start_ix:end_ix]))\n",
    "#             scat.y = line.y[start_ix:end_ix]\n",
    "            scat.x, scat.y = line.x[start_ix:end_ix],[line.y[0][start_ix:end_ix],line.y[1][start_ix:end_ix],line.y[2][start_ix:end_ix]]\n",
    "\n",
    "# register the callback with brushing trait of interval selector\n",
    "intsel.observe(update_scatter, 'brushing')\n",
    "# help_label = HTML('<div style=\"color: black; font-size: 20px; margin:20px 0px 0px 50px\">\\\n",
    "#                   Comparison of the Rural and Urban air temperature with the calculated UHI.</div>\\\n",
    "#                   <div style=\"color: black; font-size: 20px; margin:20px 0px 0px 50px\">To zoom into a particular area please click and drag then move the window to analyse the data</div>')\n",
    "VBox([time_series_fig, scat_fig])"
   ]
  }
 ],
 "metadata": {
  "kernelspec": {
   "display_name": "Python 3",
   "language": "python",
   "name": "python3"
  },
  "language_info": {
   "codemirror_mode": {
    "name": "ipython",
    "version": 3
   },
   "file_extension": ".py",
   "mimetype": "text/x-python",
   "name": "python",
   "nbconvert_exporter": "python",
   "pygments_lexer": "ipython3",
   "version": "3.6.10"
  }
 },
 "nbformat": 4,
 "nbformat_minor": 4
}
